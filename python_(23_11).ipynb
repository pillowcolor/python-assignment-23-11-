{
  "nbformat": 4,
  "nbformat_minor": 0,
  "metadata": {
    "colab": {
      "provenance": []
    },
    "kernelspec": {
      "name": "python3",
      "display_name": "Python 3"
    },
    "language_info": {
      "name": "python"
    }
  },
  "cells": [
    {
      "cell_type": "code",
      "execution_count": null,
      "metadata": {
        "id": "mvQfOKff6NP2"
      },
      "outputs": [],
      "source": [
        "#write a program to print the largest and the smallest number of a list\n",
        "#write a program to delete the alternative numbers in  a list\n",
        "#write a program to delete the odd numbers in a list and print the even numbers"
      ]
    },
    {
      "cell_type": "markdown",
      "source": [
        "**program to print the largest and the smallest number of a list**"
      ],
      "metadata": {
        "id": "T0ZulWJJiY7u"
      }
    },
    {
      "cell_type": "code",
      "source": [
        "mylist=[2,8,7,6,30]\n",
        "mylist.sort()\n",
        "print(mylist)"
      ],
      "metadata": {
        "colab": {
          "base_uri": "https://localhost:8080/"
        },
        "id": "Sum5GCKSjN2m",
        "outputId": "47c54ea1-a6e0-47e3-8026-5c8aac4a40ce"
      },
      "execution_count": 3,
      "outputs": [
        {
          "output_type": "stream",
          "name": "stdout",
          "text": [
            "[2, 6, 7, 8, 30]\n"
          ]
        }
      ]
    },
    {
      "cell_type": "code",
      "source": [
        "print(\"the smallest number is:\",mylist[0])\n",
        "print(\"the largest number is:\",mylist[-1])\n"
      ],
      "metadata": {
        "colab": {
          "base_uri": "https://localhost:8080/"
        },
        "id": "tuRZso5QjnQ7",
        "outputId": "c49434d2-b676-45e8-b5e6-6a160fe57e37"
      },
      "execution_count": 5,
      "outputs": [
        {
          "output_type": "stream",
          "name": "stdout",
          "text": [
            "the smallest number is: 2\n",
            "the largest number is: 30\n"
          ]
        }
      ]
    },
    {
      "cell_type": "markdown",
      "source": [
        "**program to delete the alternative numbers in  a list**"
      ],
      "metadata": {
        "id": "AavC1xlDkQ6d"
      }
    },
    {
      "cell_type": "code",
      "source": [
        "mylist=[\"task\",\"sequence\",\"public\",\"details\",63464,True,69.69]\n",
        "del mylist[-7:5:2]\n",
        "print(mylist)\n"
      ],
      "metadata": {
        "colab": {
          "base_uri": "https://localhost:8080/"
        },
        "id": "X1XIBpTqkah-",
        "outputId": "09533aab-09a1-4055-f668-fa41f5eae43f"
      },
      "execution_count": 9,
      "outputs": [
        {
          "output_type": "stream",
          "name": "stdout",
          "text": [
            "['sequence', 'details', True, 69.69]\n"
          ]
        }
      ]
    },
    {
      "cell_type": "markdown",
      "source": [
        "**program to delete the odd numbers in a list and print the even numbers**"
      ],
      "metadata": {
        "id": "phpKrV1AmOWw"
      }
    },
    {
      "cell_type": "code",
      "source": [
        "mylist=[2,3,10,21]\n",
        "for x in mylist:\n",
        "   if x %2!=0:\n",
        "      mylist.remove(x)\n",
        "print(\"the list after removing all the odd numbers:\",mylist)\n",
        "              \n",
        "\n"
      ],
      "metadata": {
        "colab": {
          "base_uri": "https://localhost:8080/"
        },
        "id": "IjZXjB1HoHqW",
        "outputId": "5d915e25-09df-49ca-84c4-e7f58c8b4556"
      },
      "execution_count": 32,
      "outputs": [
        {
          "output_type": "stream",
          "name": "stdout",
          "text": [
            "the list after removing all the odd numbers: [2, 10]\n"
          ]
        }
      ]
    },
    {
      "cell_type": "code",
      "source": [],
      "metadata": {
        "id": "6gG9LTwPuNYM"
      },
      "execution_count": null,
      "outputs": []
    }
  ]
}